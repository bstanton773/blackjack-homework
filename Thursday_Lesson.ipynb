{
 "cells": [
  {
   "cell_type": "markdown",
   "metadata": {},
   "source": [
    "## Tasks Today:\n",
    "\n",
    "1) <b>Insertion Sort</b> <br>\n",
    "2) <b>Bubble Sort</b> <br>\n",
    "3) <b>Selection Sort</b> <br>\n",
    "4) <b>Merge Sort</b> <br>"
   ]
  },
  {
   "cell_type": "code",
   "execution_count": 1,
   "metadata": {},
   "outputs": [
    {
     "data": {
      "text/plain": [
       "[85, 82, 28, 70, 82, 45, 35, 0, 95, 21, 49, 19, 57, 53, 7, 98, 36, 14, 61, 41]"
      ]
     },
     "execution_count": 1,
     "metadata": {},
     "output_type": "execute_result"
    }
   ],
   "source": [
    "import random\n",
    "\n",
    "list_to_sort = [random.randint(0,100) for i in range(20)]\n",
    "list_to_sort"
   ]
  },
  {
   "cell_type": "markdown",
   "metadata": {},
   "source": [
    "# Insertion Sort"
   ]
  },
  {
   "cell_type": "code",
   "execution_count": 18,
   "metadata": {},
   "outputs": [],
   "source": [
    "def insertion_sort(a_list):\n",
    "    our_list = a_list.copy()\n",
    "    print(\"Unsorted List:\", our_list)\n",
    "    for index in range(len(our_list)):\n",
    "        value_to_sort = our_list[index]\n",
    "        \n",
    "        while our_list[index-1] > value_to_sort and index > 0:\n",
    "            our_list[index], our_list[index-1] = our_list[index-1], our_list[index]\n",
    "            index -=1\n",
    "        print(our_list)\n",
    "    \n",
    "    print(\"Sorted List:\", our_list)\n",
    "    return our_list"
   ]
  },
  {
   "cell_type": "code",
   "execution_count": 19,
   "metadata": {},
   "outputs": [
    {
     "name": "stdout",
     "output_type": "stream",
     "text": [
      "Unsorted List: [85, 82, 28, 70, 82, 45, 35, 0, 95, 21, 49, 19, 57, 53, 7, 98, 36, 14, 61, 41]\n",
      "[85, 82, 28, 70, 82, 45, 35, 0, 95, 21, 49, 19, 57, 53, 7, 98, 36, 14, 61, 41]\n",
      "[82, 85, 28, 70, 82, 45, 35, 0, 95, 21, 49, 19, 57, 53, 7, 98, 36, 14, 61, 41]\n",
      "[28, 82, 85, 70, 82, 45, 35, 0, 95, 21, 49, 19, 57, 53, 7, 98, 36, 14, 61, 41]\n",
      "[28, 70, 82, 85, 82, 45, 35, 0, 95, 21, 49, 19, 57, 53, 7, 98, 36, 14, 61, 41]\n",
      "[28, 70, 82, 82, 85, 45, 35, 0, 95, 21, 49, 19, 57, 53, 7, 98, 36, 14, 61, 41]\n",
      "[28, 45, 70, 82, 82, 85, 35, 0, 95, 21, 49, 19, 57, 53, 7, 98, 36, 14, 61, 41]\n",
      "[28, 35, 45, 70, 82, 82, 85, 0, 95, 21, 49, 19, 57, 53, 7, 98, 36, 14, 61, 41]\n",
      "[0, 28, 35, 45, 70, 82, 82, 85, 95, 21, 49, 19, 57, 53, 7, 98, 36, 14, 61, 41]\n",
      "[0, 28, 35, 45, 70, 82, 82, 85, 95, 21, 49, 19, 57, 53, 7, 98, 36, 14, 61, 41]\n",
      "[0, 21, 28, 35, 45, 70, 82, 82, 85, 95, 49, 19, 57, 53, 7, 98, 36, 14, 61, 41]\n",
      "[0, 21, 28, 35, 45, 49, 70, 82, 82, 85, 95, 19, 57, 53, 7, 98, 36, 14, 61, 41]\n",
      "[0, 19, 21, 28, 35, 45, 49, 70, 82, 82, 85, 95, 57, 53, 7, 98, 36, 14, 61, 41]\n",
      "[0, 19, 21, 28, 35, 45, 49, 57, 70, 82, 82, 85, 95, 53, 7, 98, 36, 14, 61, 41]\n",
      "[0, 19, 21, 28, 35, 45, 49, 53, 57, 70, 82, 82, 85, 95, 7, 98, 36, 14, 61, 41]\n",
      "[0, 7, 19, 21, 28, 35, 45, 49, 53, 57, 70, 82, 82, 85, 95, 98, 36, 14, 61, 41]\n",
      "[0, 7, 19, 21, 28, 35, 45, 49, 53, 57, 70, 82, 82, 85, 95, 98, 36, 14, 61, 41]\n",
      "[0, 7, 19, 21, 28, 35, 36, 45, 49, 53, 57, 70, 82, 82, 85, 95, 98, 14, 61, 41]\n",
      "[0, 7, 14, 19, 21, 28, 35, 36, 45, 49, 53, 57, 70, 82, 82, 85, 95, 98, 61, 41]\n",
      "[0, 7, 14, 19, 21, 28, 35, 36, 45, 49, 53, 57, 61, 70, 82, 82, 85, 95, 98, 41]\n",
      "[0, 7, 14, 19, 21, 28, 35, 36, 41, 45, 49, 53, 57, 61, 70, 82, 82, 85, 95, 98]\n",
      "Sorted List: [0, 7, 14, 19, 21, 28, 35, 36, 41, 45, 49, 53, 57, 61, 70, 82, 82, 85, 95, 98]\n"
     ]
    },
    {
     "data": {
      "text/plain": [
       "[0, 7, 14, 19, 21, 28, 35, 36, 41, 45, 49, 53, 57, 61, 70, 82, 82, 85, 95, 98]"
      ]
     },
     "execution_count": 19,
     "metadata": {},
     "output_type": "execute_result"
    }
   ],
   "source": [
    "insertion_sort(list_to_sort)"
   ]
  },
  {
   "cell_type": "markdown",
   "metadata": {},
   "source": [
    "# Bubble Sort"
   ]
  },
  {
   "cell_type": "code",
   "execution_count": 24,
   "metadata": {},
   "outputs": [],
   "source": [
    "def bubble_sort(a_list):\n",
    "    our_list = a_list.copy()\n",
    "    print(\"Unsorted List:\", our_list)\n",
    "    n = len(our_list)\n",
    "    for i in range(n):\n",
    "        print(our_list)\n",
    "        \n",
    "        # Last i elements are already in correct place\n",
    "        for j in range(n-i-1):\n",
    "            if our_list[j] > our_list[j+1]:\n",
    "                our_list[j], our_list[j+1] = our_list[j+1], our_list[j]\n",
    "            \n",
    "    \n",
    "    print(\"Sorted List:\", our_list)\n",
    "    return our_list"
   ]
  },
  {
   "cell_type": "code",
   "execution_count": 25,
   "metadata": {},
   "outputs": [
    {
     "name": "stdout",
     "output_type": "stream",
     "text": [
      "Unsorted List: [85, 82, 28, 70, 82, 45, 35, 0, 95, 21, 49, 19, 57, 53, 7, 98, 36, 14, 61, 41]\n",
      "[85, 82, 28, 70, 82, 45, 35, 0, 95, 21, 49, 19, 57, 53, 7, 98, 36, 14, 61, 41]\n",
      "[82, 28, 70, 82, 45, 35, 0, 85, 21, 49, 19, 57, 53, 7, 95, 36, 14, 61, 41, 98]\n",
      "[28, 70, 82, 45, 35, 0, 82, 21, 49, 19, 57, 53, 7, 85, 36, 14, 61, 41, 95, 98]\n",
      "[28, 70, 45, 35, 0, 82, 21, 49, 19, 57, 53, 7, 82, 36, 14, 61, 41, 85, 95, 98]\n",
      "[28, 45, 35, 0, 70, 21, 49, 19, 57, 53, 7, 82, 36, 14, 61, 41, 82, 85, 95, 98]\n",
      "[28, 35, 0, 45, 21, 49, 19, 57, 53, 7, 70, 36, 14, 61, 41, 82, 82, 85, 95, 98]\n",
      "[28, 0, 35, 21, 45, 19, 49, 53, 7, 57, 36, 14, 61, 41, 70, 82, 82, 85, 95, 98]\n",
      "[0, 28, 21, 35, 19, 45, 49, 7, 53, 36, 14, 57, 41, 61, 70, 82, 82, 85, 95, 98]\n",
      "[0, 21, 28, 19, 35, 45, 7, 49, 36, 14, 53, 41, 57, 61, 70, 82, 82, 85, 95, 98]\n",
      "[0, 21, 19, 28, 35, 7, 45, 36, 14, 49, 41, 53, 57, 61, 70, 82, 82, 85, 95, 98]\n",
      "[0, 19, 21, 28, 7, 35, 36, 14, 45, 41, 49, 53, 57, 61, 70, 82, 82, 85, 95, 98]\n",
      "[0, 19, 21, 7, 28, 35, 14, 36, 41, 45, 49, 53, 57, 61, 70, 82, 82, 85, 95, 98]\n",
      "[0, 19, 7, 21, 28, 14, 35, 36, 41, 45, 49, 53, 57, 61, 70, 82, 82, 85, 95, 98]\n",
      "[0, 7, 19, 21, 14, 28, 35, 36, 41, 45, 49, 53, 57, 61, 70, 82, 82, 85, 95, 98]\n",
      "[0, 7, 19, 14, 21, 28, 35, 36, 41, 45, 49, 53, 57, 61, 70, 82, 82, 85, 95, 98]\n",
      "[0, 7, 14, 19, 21, 28, 35, 36, 41, 45, 49, 53, 57, 61, 70, 82, 82, 85, 95, 98]\n",
      "[0, 7, 14, 19, 21, 28, 35, 36, 41, 45, 49, 53, 57, 61, 70, 82, 82, 85, 95, 98]\n",
      "[0, 7, 14, 19, 21, 28, 35, 36, 41, 45, 49, 53, 57, 61, 70, 82, 82, 85, 95, 98]\n",
      "[0, 7, 14, 19, 21, 28, 35, 36, 41, 45, 49, 53, 57, 61, 70, 82, 82, 85, 95, 98]\n",
      "[0, 7, 14, 19, 21, 28, 35, 36, 41, 45, 49, 53, 57, 61, 70, 82, 82, 85, 95, 98]\n",
      "Sorted List: [0, 7, 14, 19, 21, 28, 35, 36, 41, 45, 49, 53, 57, 61, 70, 82, 82, 85, 95, 98]\n"
     ]
    },
    {
     "data": {
      "text/plain": [
       "[0, 7, 14, 19, 21, 28, 35, 36, 41, 45, 49, 53, 57, 61, 70, 82, 82, 85, 95, 98]"
      ]
     },
     "execution_count": 25,
     "metadata": {},
     "output_type": "execute_result"
    }
   ],
   "source": [
    "bubble_sort(list_to_sort)"
   ]
  },
  {
   "cell_type": "markdown",
   "metadata": {},
   "source": [
    "# Selection Sort"
   ]
  },
  {
   "cell_type": "code",
   "execution_count": 34,
   "metadata": {},
   "outputs": [],
   "source": [
    "def selection_sort(a_list):\n",
    "    our_list = a_list.copy()\n",
    "    print(\"Unsorted List:\", our_list)\n",
    "    \n",
    "    # Loop through the list\n",
    "    for current_index in range(len(our_list)):\n",
    "        # create a value for minimum val index\n",
    "        min_value_index = current_index\n",
    "        \n",
    "         # starting one to the right of current_index\n",
    "        for j in range(current_index+1, len(our_list)):\n",
    "            # if the value at index j is less than value at min_value_index\n",
    "            if our_list[j] < our_list[min_value_index]:\n",
    "                # set new minimun value index\n",
    "                min_value_index = j\n",
    "        print(our_list)\n",
    "        # if min_value_index is not the current_index\n",
    "        if min_value_index != current_index:\n",
    "            # swap\n",
    "            our_list[min_value_index], our_list[current_index] = our_list[current_index], our_list[min_value_index]\n",
    "    \n",
    "    print(\"Sorted List:\", our_list)\n",
    "    \n",
    "    return our_list"
   ]
  },
  {
   "cell_type": "code",
   "execution_count": 35,
   "metadata": {},
   "outputs": [
    {
     "name": "stdout",
     "output_type": "stream",
     "text": [
      "Unsorted List: [85, 82, 28, 70, 82, 45, 35, 0, 95, 21, 49, 19, 57, 53, 7, 98, 36, 14, 61, 41]\n",
      "[85, 82, 28, 70, 82, 45, 35, 0, 95, 21, 49, 19, 57, 53, 7, 98, 36, 14, 61, 41]\n",
      "[0, 82, 28, 70, 82, 45, 35, 85, 95, 21, 49, 19, 57, 53, 7, 98, 36, 14, 61, 41]\n",
      "[0, 7, 28, 70, 82, 45, 35, 85, 95, 21, 49, 19, 57, 53, 82, 98, 36, 14, 61, 41]\n",
      "[0, 7, 14, 70, 82, 45, 35, 85, 95, 21, 49, 19, 57, 53, 82, 98, 36, 28, 61, 41]\n",
      "[0, 7, 14, 19, 82, 45, 35, 85, 95, 21, 49, 70, 57, 53, 82, 98, 36, 28, 61, 41]\n",
      "[0, 7, 14, 19, 21, 45, 35, 85, 95, 82, 49, 70, 57, 53, 82, 98, 36, 28, 61, 41]\n",
      "[0, 7, 14, 19, 21, 28, 35, 85, 95, 82, 49, 70, 57, 53, 82, 98, 36, 45, 61, 41]\n",
      "[0, 7, 14, 19, 21, 28, 35, 85, 95, 82, 49, 70, 57, 53, 82, 98, 36, 45, 61, 41]\n",
      "[0, 7, 14, 19, 21, 28, 35, 36, 95, 82, 49, 70, 57, 53, 82, 98, 85, 45, 61, 41]\n",
      "[0, 7, 14, 19, 21, 28, 35, 36, 41, 82, 49, 70, 57, 53, 82, 98, 85, 45, 61, 95]\n",
      "[0, 7, 14, 19, 21, 28, 35, 36, 41, 45, 49, 70, 57, 53, 82, 98, 85, 82, 61, 95]\n",
      "[0, 7, 14, 19, 21, 28, 35, 36, 41, 45, 49, 70, 57, 53, 82, 98, 85, 82, 61, 95]\n",
      "[0, 7, 14, 19, 21, 28, 35, 36, 41, 45, 49, 53, 57, 70, 82, 98, 85, 82, 61, 95]\n",
      "[0, 7, 14, 19, 21, 28, 35, 36, 41, 45, 49, 53, 57, 70, 82, 98, 85, 82, 61, 95]\n",
      "[0, 7, 14, 19, 21, 28, 35, 36, 41, 45, 49, 53, 57, 61, 82, 98, 85, 82, 70, 95]\n",
      "[0, 7, 14, 19, 21, 28, 35, 36, 41, 45, 49, 53, 57, 61, 70, 98, 85, 82, 82, 95]\n",
      "[0, 7, 14, 19, 21, 28, 35, 36, 41, 45, 49, 53, 57, 61, 70, 82, 85, 98, 82, 95]\n",
      "[0, 7, 14, 19, 21, 28, 35, 36, 41, 45, 49, 53, 57, 61, 70, 82, 82, 98, 85, 95]\n",
      "[0, 7, 14, 19, 21, 28, 35, 36, 41, 45, 49, 53, 57, 61, 70, 82, 82, 85, 98, 95]\n",
      "[0, 7, 14, 19, 21, 28, 35, 36, 41, 45, 49, 53, 57, 61, 70, 82, 82, 85, 95, 98]\n",
      "Sorted List: [0, 7, 14, 19, 21, 28, 35, 36, 41, 45, 49, 53, 57, 61, 70, 82, 82, 85, 95, 98]\n"
     ]
    },
    {
     "data": {
      "text/plain": [
       "[0, 7, 14, 19, 21, 28, 35, 36, 41, 45, 49, 53, 57, 61, 70, 82, 82, 85, 95, 98]"
      ]
     },
     "execution_count": 35,
     "metadata": {},
     "output_type": "execute_result"
    }
   ],
   "source": [
    "selection_sort(list_to_sort)"
   ]
  },
  {
   "cell_type": "markdown",
   "metadata": {},
   "source": [
    "# Merge Sort"
   ]
  },
  {
   "cell_type": "code",
   "execution_count": 45,
   "metadata": {},
   "outputs": [],
   "source": [
    "def merge(list_a, list_b):\n",
    "    list_c = []\n",
    "    \n",
    "    print(\"List A:\", list_a)\n",
    "    print(\"List B:\", list_b)\n",
    "    \n",
    "    # if neither list is empty\n",
    "    while list_a and list_b:\n",
    "        # compare the 0 index of each list\n",
    "        if list_a[0] > list_b[0]:\n",
    "            list_c.append(list_b.pop(0))\n",
    "        else:\n",
    "            list_c.append(list_a.pop(0))\n",
    "            \n",
    "    # if list_b is empty but list_a still has values, merge the sorted values from list_a to list_c\n",
    "    while list_a:\n",
    "        list_c.append(list_a.pop(0))\n",
    "        \n",
    "    # if list_a is empty but list_b still has values, merge the sorted values from list_b to list_c\n",
    "    while list_b:\n",
    "        list_c.append(list_b.pop(0))\n",
    "\n",
    "    print(\"List C:\", list_c)\n",
    "    print(\"\\n\\n\")\n",
    "    return list_c\n",
    "\n",
    "def merge_sort(a_list):\n",
    "    our_list = a_list.copy()\n",
    "    \n",
    "    # Base case\n",
    "    if len(our_list) <= 1:\n",
    "        return our_list\n",
    "    \n",
    "    # Find the middle index\n",
    "    middle_index = len(our_list)//2\n",
    "    \n",
    "    left = merge_sort(our_list[:middle_index])\n",
    "    right = merge_sort(our_list[middle_index:])\n",
    "    \n",
    "    return merge(left, right)"
   ]
  },
  {
   "cell_type": "code",
   "execution_count": 49,
   "metadata": {},
   "outputs": [
    {
     "data": {
      "text/plain": [
       "[85, 82, 28, 70, 82, 45, 35, 0, 95, 21, 49, 19, 57, 53, 7, 98, 36, 14, 61, 41]"
      ]
     },
     "execution_count": 49,
     "metadata": {},
     "output_type": "execute_result"
    }
   ],
   "source": [
    "list_to_sort"
   ]
  },
  {
   "cell_type": "code",
   "execution_count": 46,
   "metadata": {},
   "outputs": [
    {
     "name": "stdout",
     "output_type": "stream",
     "text": [
      "List A: [85]\n",
      "List B: [82]\n",
      "List C: [82, 85]\n",
      "\n",
      "\n",
      "\n",
      "List A: [70]\n",
      "List B: [82]\n",
      "List C: [70, 82]\n",
      "\n",
      "\n",
      "\n",
      "List A: [28]\n",
      "List B: [70, 82]\n",
      "List C: [28, 70, 82]\n",
      "\n",
      "\n",
      "\n",
      "List A: [82, 85]\n",
      "List B: [28, 70, 82]\n",
      "List C: [28, 70, 82, 82, 85]\n",
      "\n",
      "\n",
      "\n",
      "List A: [45]\n",
      "List B: [35]\n",
      "List C: [35, 45]\n",
      "\n",
      "\n",
      "\n",
      "List A: [95]\n",
      "List B: [21]\n",
      "List C: [21, 95]\n",
      "\n",
      "\n",
      "\n",
      "List A: [0]\n",
      "List B: [21, 95]\n",
      "List C: [0, 21, 95]\n",
      "\n",
      "\n",
      "\n",
      "List A: [35, 45]\n",
      "List B: [0, 21, 95]\n",
      "List C: [0, 21, 35, 45, 95]\n",
      "\n",
      "\n",
      "\n",
      "List A: [28, 70, 82, 82, 85]\n",
      "List B: [0, 21, 35, 45, 95]\n",
      "List C: [0, 21, 28, 35, 45, 70, 82, 82, 85, 95]\n",
      "\n",
      "\n",
      "\n",
      "List A: [49]\n",
      "List B: [19]\n",
      "List C: [19, 49]\n",
      "\n",
      "\n",
      "\n",
      "List A: [53]\n",
      "List B: [7]\n",
      "List C: [7, 53]\n",
      "\n",
      "\n",
      "\n",
      "List A: [57]\n",
      "List B: [7, 53]\n",
      "List C: [7, 53, 57]\n",
      "\n",
      "\n",
      "\n",
      "List A: [19, 49]\n",
      "List B: [7, 53, 57]\n",
      "List C: [7, 19, 49, 53, 57]\n",
      "\n",
      "\n",
      "\n",
      "List A: [98]\n",
      "List B: [36]\n",
      "List C: [36, 98]\n",
      "\n",
      "\n",
      "\n",
      "List A: [61]\n",
      "List B: [41]\n",
      "List C: [41, 61]\n",
      "\n",
      "\n",
      "\n",
      "List A: [14]\n",
      "List B: [41, 61]\n",
      "List C: [14, 41, 61]\n",
      "\n",
      "\n",
      "\n",
      "List A: [36, 98]\n",
      "List B: [14, 41, 61]\n",
      "List C: [14, 36, 41, 61, 98]\n",
      "\n",
      "\n",
      "\n",
      "List A: [7, 19, 49, 53, 57]\n",
      "List B: [14, 36, 41, 61, 98]\n",
      "List C: [7, 14, 19, 36, 41, 49, 53, 57, 61, 98]\n",
      "\n",
      "\n",
      "\n",
      "List A: [0, 21, 28, 35, 45, 70, 82, 82, 85, 95]\n",
      "List B: [7, 14, 19, 36, 41, 49, 53, 57, 61, 98]\n",
      "List C: [0, 7, 14, 19, 21, 28, 35, 36, 41, 45, 49, 53, 57, 61, 70, 82, 82, 85, 95, 98]\n",
      "\n",
      "\n",
      "\n"
     ]
    },
    {
     "data": {
      "text/plain": [
       "[0, 7, 14, 19, 21, 28, 35, 36, 41, 45, 49, 53, 57, 61, 70, 82, 82, 85, 95, 98]"
      ]
     },
     "execution_count": 46,
     "metadata": {},
     "output_type": "execute_result"
    }
   ],
   "source": [
    "merge_sort(list_to_sort)"
   ]
  },
  {
   "cell_type": "code",
   "execution_count": 40,
   "metadata": {},
   "outputs": [],
   "source": [
    "a = [3, 4, 5, 6, 7]\n",
    "c = []\n",
    "c.append(a.pop(0))"
   ]
  },
  {
   "cell_type": "code",
   "execution_count": 41,
   "metadata": {},
   "outputs": [
    {
     "data": {
      "text/plain": [
       "[4, 5, 6, 7]"
      ]
     },
     "execution_count": 41,
     "metadata": {},
     "output_type": "execute_result"
    }
   ],
   "source": [
    "a"
   ]
  },
  {
   "cell_type": "code",
   "execution_count": 42,
   "metadata": {},
   "outputs": [
    {
     "data": {
      "text/plain": [
       "[3]"
      ]
     },
     "execution_count": 42,
     "metadata": {},
     "output_type": "execute_result"
    }
   ],
   "source": [
    "c"
   ]
  },
  {
   "cell_type": "code",
   "execution_count": null,
   "metadata": {},
   "outputs": [],
   "source": []
  }
 ],
 "metadata": {
  "kernelspec": {
   "display_name": "Python 3",
   "language": "python",
   "name": "python3"
  },
  "language_info": {
   "codemirror_mode": {
    "name": "ipython",
    "version": 3
   },
   "file_extension": ".py",
   "mimetype": "text/x-python",
   "name": "python",
   "nbconvert_exporter": "python",
   "pygments_lexer": "ipython3",
   "version": "3.8.3"
  }
 },
 "nbformat": 4,
 "nbformat_minor": 4
}
